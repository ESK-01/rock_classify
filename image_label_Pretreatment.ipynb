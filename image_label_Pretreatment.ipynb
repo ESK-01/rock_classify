{
 "cells": [
  {
   "cell_type": "code",
   "execution_count": null,
   "id": "homeless-champagne",
   "metadata": {},
   "outputs": [],
   "source": [
    "from PIL import Image\n",
    "import matplotlib.pyplot as plt\n",
    "import os\n",
    "import shutil\n",
    "import natsort  #排序\n",
    "import cv2\n",
    "import torch\n",
    "import random\n",
    "import numpy as np\n",
    "import pandas as pd\n",
    "from albumentations import CenterCrop\n",
    "from sklearn.preprocessing import LabelEncoder\n",
    "from PIL import Image\n",
    "import torchvision\n",
    "from torchvision import transforms\n",
    "import torch.nn as nn"
   ]
  },
  {
   "cell_type": "code",
   "execution_count": null,
   "id": "velvet-terror",
   "metadata": {},
   "outputs": [],
   "source": [
    "###########################################\n",
    "#图像文件分类,白光,荧光照片分为两类\n",
    "##########################################\n",
    "\n",
    "\n",
    "path = r'./Rock/'\n",
    "fluorescence = r'./input/fluorescence'\n",
    "white_light = r'./input/white_light'\n",
    "\n",
    "files_list = os.listdir(path)\n",
    "\n",
    "for file in files_list:\n",
    "    filename, name_suffix = os.path.splitext(file)  # filename是文件名 suffix是文件后缀\n",
    "    file_bmp_path = path + \"/\" + filename + '.bmp'\n",
    "    file_jpg_path = path + \"/\" + filename + '.jpg'\n",
    "    label1 = filename.split('-')[1]  # '-'后面的文件名\n",
    "    label2 = label1.split('.')[0]  # '.'前面的文件名\n",
    "    \n",
    "    if label2 == '1':\n",
    "        if name_suffix =='.bmp':\n",
    "            shutil.copy(file_bmp_path, white_light)\n",
    "        else:\n",
    "            shutil.copy(file_jpg_path, white_light)\n",
    "    else:\n",
    "        if name_suffix =='.bmp':\n",
    "            shutil.copy(file_bmp_path, fluorescence)\n",
    "        else:\n",
    "            shutil.copy(file_jpg_path, fluorescence)\n"
   ]
  },
  {
   "cell_type": "code",
   "execution_count": null,
   "id": "green-encounter",
   "metadata": {},
   "outputs": [],
   "source": [
    "###################################################\n",
    "#图像切割\n",
    "###################################################\n",
    "\n",
    "train_path = './input/white_light/'\n",
    "zhongzhuan_path = './input/zhongzhuan/'\n",
    "files_list = os.listdir(train_path)\n",
    "files_list = natsort.natsorted(files_list)#排序\n",
    "save_path = './input/imges_output/'\n",
    "\n",
    "def imread(image):\n",
    "    image = cv2.imread(image)\n",
    "    image = cv2.cvtColor(image, cv2.COLOR_BGR2RGB) #实现色彩空间转换\n",
    "    image = image.astype(np.uint8)\n",
    "    return np.array(image)"
   ]
  },
  {
   "cell_type": "code",
   "execution_count": null,
   "id": "acute-fellowship",
   "metadata": {},
   "outputs": [],
   "source": [
    "\n",
    "for i in files_list:\n",
    "    m = 0\n",
    "    filename, name_suffix = os.path.splitext(i)  # filename是文件名 suffix是文件后缀\n",
    "    main_name = filename.split('-')[0]  # '-'前面的主文件名\n",
    "    main_name = int(main_name)\n",
    "    \n",
    "    if main_name < 321:\n",
    "        main_name = str(main_name)\n",
    "        img = Image.open(train_path + i)\n",
    "        size = img.size\n",
    "        n_equal_parts=3\n",
    "        # 准备将图片切割成9张小图片\n",
    "        weight = int(size[0] // n_equal_parts)\n",
    "        height = int(size[1] // n_equal_parts)\n",
    "        for j in range(n_equal_parts):\n",
    "            for k in range(n_equal_parts):\n",
    "                m+=1\n",
    "                box = (weight * k, height * j, weight * (k + 1), height * (j + 1))\n",
    "                region = img.crop(box)\n",
    "                region.save(save_path + main_name +'_{}.bmp'.format(m))\n",
    "    main_name = int(main_name)            \n",
    "    if main_name > 321:\n",
    "        main_name = str(main_name)\n",
    "        img = imread(train_path + i)\n",
    "        img = CenterCrop(1024, 1024, always_apply=False, p=1.0)(image=img)['image']#裁剪输入的中心部分\n",
    "        cv2.imwrite(zhongzhuan_path + main_name + '-{}.jpg'.format(1), img)\n",
    "        img = Image.open(zhongzhuan_path + i)\n",
    "        size = img.size\n",
    "        n_equal_parts=2# 准备将图片切割成4张小图片\n",
    "        weight = int(size[0] // n_equal_parts)\n",
    "        height = int(size[1] // n_equal_parts)\n",
    "        for j in range(n_equal_parts):\n",
    "            for k in range(n_equal_parts):\n",
    "                m+=1\n",
    "                box = (weight * k, height * j, weight * (k + 1), height * (j + 1))\n",
    "                region = img.crop(box)\n",
    "                region.save(save_path + main_name+'_{}.bmp'.format(m))\n",
    "        \n",
    "        \n",
    "                \n",
    "                \n",
    "        \n",
    "               "
   ]
  },
  {
   "cell_type": "code",
   "execution_count": null,
   "id": "waiting-henry",
   "metadata": {},
   "outputs": [],
   "source": [
    "######################################################\n",
    "#图像池化压缩图像\n",
    "#####################################################\n",
    "data_path = './input/images_output/'\n",
    "save_path = './input/images_output_cnn/'\n",
    "files_list = os.listdir(data_path)\n",
    "files_list = natsort.natsorted(files_list)"
   ]
  },
  {
   "cell_type": "code",
   "execution_count": null,
   "id": "sixth-shannon",
   "metadata": {},
   "outputs": [],
   "source": [
    "def transform_invert(img_, transform_train):\n",
    "    \"\"\"\n",
    "    将data 进行反transfrom操作\n",
    "    :param img_: tensor\n",
    "    :param transform_train: torchvision.transforms\n",
    "    :return: PIL image\n",
    "    \"\"\"\n",
    "    if 'Normalize' in str(transform_train):\n",
    "        norm_transform = list(filter(lambda x: isinstance(x, transforms.Normalize), transform_train.transforms))\n",
    "        mean = torch.tensor(norm_transform[0].mean, dtype=img_.dtype, device=img_.device)\n",
    "        std = torch.tensor(norm_transform[0].std, dtype=img_.dtype, device=img_.device)\n",
    "        img_.mul_(std[:, None, None]).add_(mean[:, None, None])\n",
    "\n",
    "    img_ = img_.transpose(0, 2).transpose(0, 1)  # C*H*W --> H*W*C\n",
    "    img_ = np.array(img_) * 255\n",
    "\n",
    "    if img_.shape[2] == 3:\n",
    "        img_ = Image.fromarray(img_.astype('uint8')).convert('RGB')\n",
    "    elif img_.shape[2] == 1:\n",
    "        img_ = Image.fromarray(img_.astype('uint8').squeeze())\n",
    "    else:\n",
    "        raise Exception(\"Invalid img shape, expected 1 or 3 in axis 2, but got {}!\".format(img_.shape[2]) )\n",
    "\n",
    "    return img_\n",
    "\n",
    "#最大池化\n",
    "def maxpoll(img_tensor):\n",
    "    maxpool_layer = nn.MaxPool2d((2,2),stride=(2,2)) # input:(i, o, size) weights:(o, i , h, w)\n",
    "    img_maxpool = maxpool_layer(img_tensor)\n",
    "    return img_maxpool\n"
   ]
  },
  {
   "cell_type": "code",
   "execution_count": null,
   "id": "fourth-blond",
   "metadata": {},
   "outputs": [],
   "source": [
    "for i in files_list:\n",
    "    m = 0\n",
    "    filename, name_suffix = os.path.splitext(i)  # filename是文件名 suffix是文件后缀\n",
    "    main_name = filename.split('_')[0]  # '-'前面的主文件名\n",
    "    main_name =int(main_name)\n",
    "    if main_name <321:\n",
    "        a=1\n",
    "        img = Image.open(data_path+i).convert('RGB')\n",
    "        # 转换为向量\n",
    "        img_transform = transforms.Compose([transforms.ToTensor()])\n",
    "        img_tensor = img_transform(img)\n",
    "        img_tensor.unsqueeze_(dim=0) # C*H*W to B*C*H*W\n",
    "        img_pool = maxpoll(img_tensor)#最大池化\n",
    "        img_pool = transform_invert(img_pool[0,0:3,...],img_transform)#向量还原为图片\n",
    "        img_pool.save(save_path+i)\n",
    "    else:\n",
    "        shutil.copy(data_path + i, save_path)\n",
    "        \n",
    "\n",
    "        "
   ]
  },
  {
   "cell_type": "code",
   "execution_count": null,
   "id": "faced-monitor",
   "metadata": {},
   "outputs": [],
   "source": [
    "#########################################\n",
    "#标签编码及制作新的csv文件\n",
    "#########################################"
   ]
  },
  {
   "cell_type": "code",
   "execution_count": null,
   "id": "sweet-revolution",
   "metadata": {},
   "outputs": [],
   "source": [
    "#数据label加载\n",
    "df=pd.DataFrame(pd.read_csv('./rock_label.csv',encoding='GBK'))\n",
    "df['样本类别'].value_counts()\n",
    "#标签编码\n",
    "le=LabelEncoder()\n",
    "le.fit(df['样本类别'].values.tolist())\n",
    "le.classes_\n",
    "df['样本类别']=le.transform(df['样本类别'].values.tolist())\n",
    "df['样本类别'].value_counts()"
   ]
  },
  {
   "cell_type": "code",
   "execution_count": null,
   "id": "naughty-virtue",
   "metadata": {},
   "outputs": [],
   "source": [
    "le.inverse_transform([0, 1, 2, 3, 4, 5, 6])#查看编码对应的标签"
   ]
  },
  {
   "cell_type": "code",
   "execution_count": null,
   "id": "dedicated-apache",
   "metadata": {},
   "outputs": [],
   "source": [
    "len_col= df.shape[0]+1\n",
    "loc_index = 0\n",
    "new_df = pd.DataFrame()\n",
    "\n",
    "for loc in range(len_col):\n",
    "    loc_index += 1\n",
    "    if loc <289:\n",
    "        for i in range(9):\n",
    "            new_df = new_df.append(df[loc_index-1:loc_index])\n",
    "            \n",
    "    else:\n",
    "        for i in range(4):\n",
    "            new_df = new_df.append(df[loc_index-1:loc_index])\n",
    "        "
   ]
  },
  {
   "cell_type": "code",
   "execution_count": null,
   "id": "weighted-framework",
   "metadata": {},
   "outputs": [],
   "source": [
    "path = r'./input/images_output_cnn/'\n",
    "files_list = os.listdir(path)\n",
    "files_list = natsort.natsorted(files_list)#排序\n",
    "new_df['样本编号'] = files_list\n",
    "new_df.columns = ['image_id', 'label']"
   ]
  },
  {
   "cell_type": "code",
   "execution_count": null,
   "id": "precious-circulation",
   "metadata": {},
   "outputs": [],
   "source": [
    "new_df.index=np.arange(0,new_df.shape[0],1)\n",
    "new_df.index#重建索引"
   ]
  },
  {
   "cell_type": "code",
   "execution_count": null,
   "id": "younger-semester",
   "metadata": {},
   "outputs": [],
   "source": [
    "#####################################\n",
    "#增加flod列,用于5折交叉验证\n",
    "#####################################\n",
    "fold=pd.DataFrame(np.random.randint(0,5,new_df['image_id'].values.shape))\n",
    "new_df['fold']=fold\n",
    "new_df['fold'].value_counts()\n",
    "new_df"
   ]
  },
  {
   "cell_type": "code",
   "execution_count": null,
   "id": "copyrighted-glory",
   "metadata": {},
   "outputs": [],
   "source": [
    "new_df.to_csv(\"./train.csv\", encoding=\"GBK\",index=False)"
   ]
  },
  {
   "cell_type": "code",
   "execution_count": null,
   "id": "broadband-familiar",
   "metadata": {},
   "outputs": [],
   "source": [
    "new_df['fold'].value_counts()"
   ]
  },
  {
   "cell_type": "code",
   "execution_count": null,
   "id": "raising-tutorial",
   "metadata": {},
   "outputs": [],
   "source": [
    "new_df['label'].value_counts()"
   ]
  },
  {
   "cell_type": "code",
   "execution_count": null,
   "id": "governmental-structure",
   "metadata": {},
   "outputs": [],
   "source": []
  },
  {
   "cell_type": "code",
   "execution_count": null,
   "id": "developing-organ",
   "metadata": {},
   "outputs": [],
   "source": []
  },
  {
   "cell_type": "code",
   "execution_count": null,
   "id": "rural-given",
   "metadata": {},
   "outputs": [],
   "source": []
  },
  {
   "cell_type": "code",
   "execution_count": null,
   "id": "gentle-spice",
   "metadata": {},
   "outputs": [],
   "source": []
  },
  {
   "cell_type": "code",
   "execution_count": null,
   "id": "typical-protocol",
   "metadata": {},
   "outputs": [],
   "source": []
  }
 ],
 "metadata": {
  "kernelspec": {
   "display_name": "Python 3",
   "language": "python",
   "name": "python3"
  },
  "language_info": {
   "codemirror_mode": {
    "name": "ipython",
    "version": 3
   },
   "file_extension": ".py",
   "mimetype": "text/x-python",
   "name": "python",
   "nbconvert_exporter": "python",
   "pygments_lexer": "ipython3",
   "version": "3.8.5"
  }
 },
 "nbformat": 4,
 "nbformat_minor": 5
}
