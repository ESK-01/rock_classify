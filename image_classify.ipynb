{
 "cells": [
  {
   "cell_type": "code",
   "execution_count": null,
   "id": "recent-procurement",
   "metadata": {},
   "outputs": [],
   "source": [
    "#图像文件分类,白光,荧光照片分为两类\n",
    "\n",
    "import os\n",
    "import shutil\n",
    "\n",
    "path = r'./rock'\n",
    "fluorescence = r'./input/fluorescence'\n",
    "white_light = r'./input/white_light'\n",
    "files_list = os.listdir(path)\n",
    "\n",
    "for file in files_list:\n",
    "    filename, name_suffix = os.path.splitext(file)  # filename是文件名 suffix是文件后缀\n",
    "    file_bmp_path = path + \"/\" + filename + '.bmp'\n",
    "    file_jpg_path = path + \"/\" + filename + '.jpg'\n",
    "    label1 = filename.split('-')[1]  # '-'后面的文件名\n",
    "    label2 = label1.split('.')[0]  # '.'前面的文件名\n",
    "    \n",
    "    if label2 == '2':\n",
    "        if name_suffix =='.bmp':\n",
    "            shutil.copy(file_bmp_path, fluorescence)\n",
    "        else:\n",
    "            shutil.copy(file_jpg_path, fluorescence)\n",
    "    else:\n",
    "        if name_suffix =='.bmp':\n",
    "            shutil.copy(file_bmp_path, white_light)\n",
    "        else:\n",
    "            shutil.copy(file_jpg_path, white_light)\n"
   ]
  },
  {
   "cell_type": "code",
   "execution_count": null,
   "id": "later-semiconductor",
   "metadata": {},
   "outputs": [],
   "source": []
  },
  {
   "cell_type": "code",
   "execution_count": null,
   "id": "quarterly-marking",
   "metadata": {},
   "outputs": [],
   "source": []
  },
  {
   "cell_type": "code",
   "execution_count": 15,
   "id": "analyzed-whale",
   "metadata": {},
   "outputs": [
    {
     "data": {
      "text/plain": [
       "5"
      ]
     },
     "execution_count": 15,
     "metadata": {},
     "output_type": "execute_result"
    }
   ],
   "source": []
  },
  {
   "cell_type": "code",
   "execution_count": null,
   "id": "compressed-tower",
   "metadata": {},
   "outputs": [],
   "source": []
  }
 ],
 "metadata": {
  "kernelspec": {
   "display_name": "Python 3",
   "language": "python",
   "name": "python3"
  },
  "language_info": {
   "codemirror_mode": {
    "name": "ipython",
    "version": 3
   },
   "file_extension": ".py",
   "mimetype": "text/x-python",
   "name": "python",
   "nbconvert_exporter": "python",
   "pygments_lexer": "ipython3",
   "version": "3.8.5"
  }
 },
 "nbformat": 4,
 "nbformat_minor": 5
}
