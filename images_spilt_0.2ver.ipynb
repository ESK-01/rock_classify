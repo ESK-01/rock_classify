{
 "cells": [
  {
   "cell_type": "code",
   "execution_count": 12,
   "id": "virtual-hydrogen",
   "metadata": {},
   "outputs": [],
   "source": [
    "from PIL import Image\n",
    "import os\n",
    "import shutil\n"
   ]
  },
  {
   "cell_type": "code",
   "execution_count": 13,
   "id": "democratic-newton",
   "metadata": {},
   "outputs": [],
   "source": [
    "TRAIN_PATH = './input/white_light/train_images/'\n",
    "files_list = os.listdir(TRAIN_PATH)\n",
    "save_path = './output/'\n",
    "for i in files_list:\n",
    "    m = 0\n",
    "    filename, name_suffix = os.path.splitext(i)  # filename是文件名 suffix是文件后缀\n",
    "    main_name = filename.split('-')[0]  # '-'前面的主文件名\n",
    "    img = Image.open(TRAIN_PATH + i)\n",
    "    size = img.size\n",
    "    n_equal_parts=3\n",
    "    # 准备将图片切割成9张小图片\n",
    "    weight = int(size[0] // n_equal_parts)\n",
    "    height = int(size[1] // n_equal_parts)\n",
    "    for j in range(3):\n",
    "        for k in range(3):\n",
    "            m+=1\n",
    "            box = (weight * k, height * j, weight * (k + 1), height * (j + 1))\n",
    "            region = img.crop(box)\n",
    "            region.save(save_path + main_name+'_{}.jpg'.format(m))\n",
    "               "
   ]
  },
  {
   "cell_type": "code",
   "execution_count": null,
   "id": "civilian-adrian",
   "metadata": {},
   "outputs": [],
   "source": []
  }
 ],
 "metadata": {
  "kernelspec": {
   "display_name": "Python 3",
   "language": "python",
   "name": "python3"
  },
  "language_info": {
   "codemirror_mode": {
    "name": "ipython",
    "version": 3
   },
   "file_extension": ".py",
   "mimetype": "text/x-python",
   "name": "python",
   "nbconvert_exporter": "python",
   "pygments_lexer": "ipython3",
   "version": "3.8.5"
  }
 },
 "nbformat": 4,
 "nbformat_minor": 5
}
