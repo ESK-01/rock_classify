{
 "cells": [
  {
   "cell_type": "code",
   "execution_count": 47,
   "id": "indonesian-twist",
   "metadata": {},
   "outputs": [
    {
     "data": {
      "text/plain": [
       "0    19\n",
       "1    17\n",
       "2     9\n",
       "3     9\n",
       "5     7\n",
       "6     5\n",
       "4     4\n",
       "Name: 样本类别, dtype: int64"
      ]
     },
     "execution_count": 47,
     "metadata": {},
     "output_type": "execute_result"
    }
   ],
   "source": [
    "import numpy as np\n",
    "import os\n",
    "import shutil\n",
    "import natsort  #排序\n",
    "import pandas as pd\n",
    "import matplotlib.pyplot as plt\n",
    "from sklearn.preprocessing import LabelEncoder\n",
    "\n",
    "\n",
    "#数据label加载\n",
    "df=pd.DataFrame(pd.read_csv('rock_label_1.csv',encoding='GBK'))\n",
    "#print(data_label[0:6],data_label.shape)\n",
    "df['样本类别'].value_counts()\n",
    "#标签编码\n",
    "le=LabelEncoder()\n",
    "le.fit(df['样本类别'].values.tolist())\n",
    "le.classes_\n",
    "df['样本类别']=le.transform(df['样本类别'].values.tolist())\n",
    "df['样本类别'].value_counts()"
   ]
  },
  {
   "cell_type": "code",
   "execution_count": 48,
   "id": "hollow-mirror",
   "metadata": {},
   "outputs": [],
   "source": [
    "len_col= df.shape[0]+1\n",
    "loc_index = 0\n",
    "new_df = pd.DataFrame()\n",
    "\n",
    "for loc in range(len_col):\n",
    "    loc_index += 1\n",
    "    for i in range(9):\n",
    "        new_df = new_df.append(df[loc_index-1:loc_index])"
   ]
  },
  {
   "cell_type": "code",
   "execution_count": 50,
   "id": "injured-rider",
   "metadata": {},
   "outputs": [],
   "source": [
    "path = r'./output/train_images'\n",
    "files_list = os.listdir(path)\n",
    "files_list = natsort.natsorted(files_list)#排序\n",
    "new_df['样本编号'] = files_list"
   ]
  },
  {
   "cell_type": "code",
   "execution_count": 51,
   "id": "miniature-shame",
   "metadata": {},
   "outputs": [],
   "source": [
    "path = r'./output/train_images'\n",
    "files_list = os.listdir(path)\n",
    "files_list = natsort.natsorted(files_list)\n",
    "new_df['样本编号'] = files_list\n",
    "new_df.columns = ['image_id', 'label']"
   ]
  },
  {
   "cell_type": "code",
   "execution_count": 52,
   "id": "imported-roommate",
   "metadata": {},
   "outputs": [
    {
     "data": {
      "text/plain": [
       "Int64Index([  0,   1,   2,   3,   4,   5,   6,   7,   8,   9,\n",
       "            ...\n",
       "            620, 621, 622, 623, 624, 625, 626, 627, 628, 629],\n",
       "           dtype='int64', length=630)"
      ]
     },
     "execution_count": 52,
     "metadata": {},
     "output_type": "execute_result"
    }
   ],
   "source": [
    "new_df.index=np.arange(0,new_df.shape[0],1)\n",
    "new_df.index"
   ]
  },
  {
   "cell_type": "code",
   "execution_count": 53,
   "id": "humanitarian-clark",
   "metadata": {},
   "outputs": [
    {
     "data": {
      "text/html": [
       "<div>\n",
       "<style scoped>\n",
       "    .dataframe tbody tr th:only-of-type {\n",
       "        vertical-align: middle;\n",
       "    }\n",
       "\n",
       "    .dataframe tbody tr th {\n",
       "        vertical-align: top;\n",
       "    }\n",
       "\n",
       "    .dataframe thead th {\n",
       "        text-align: right;\n",
       "    }\n",
       "</style>\n",
       "<table border=\"1\" class=\"dataframe\">\n",
       "  <thead>\n",
       "    <tr style=\"text-align: right;\">\n",
       "      <th></th>\n",
       "      <th>image_id</th>\n",
       "      <th>label</th>\n",
       "      <th>fold</th>\n",
       "    </tr>\n",
       "  </thead>\n",
       "  <tbody>\n",
       "    <tr>\n",
       "      <th>0</th>\n",
       "      <td>1_1.jpg</td>\n",
       "      <td>1</td>\n",
       "      <td>2</td>\n",
       "    </tr>\n",
       "    <tr>\n",
       "      <th>1</th>\n",
       "      <td>1_2.jpg</td>\n",
       "      <td>1</td>\n",
       "      <td>2</td>\n",
       "    </tr>\n",
       "    <tr>\n",
       "      <th>2</th>\n",
       "      <td>1_3.jpg</td>\n",
       "      <td>1</td>\n",
       "      <td>2</td>\n",
       "    </tr>\n",
       "    <tr>\n",
       "      <th>3</th>\n",
       "      <td>1_4.jpg</td>\n",
       "      <td>1</td>\n",
       "      <td>1</td>\n",
       "    </tr>\n",
       "    <tr>\n",
       "      <th>4</th>\n",
       "      <td>1_5.jpg</td>\n",
       "      <td>1</td>\n",
       "      <td>3</td>\n",
       "    </tr>\n",
       "    <tr>\n",
       "      <th>...</th>\n",
       "      <td>...</td>\n",
       "      <td>...</td>\n",
       "      <td>...</td>\n",
       "    </tr>\n",
       "    <tr>\n",
       "      <th>625</th>\n",
       "      <td>350_5.jpg</td>\n",
       "      <td>0</td>\n",
       "      <td>3</td>\n",
       "    </tr>\n",
       "    <tr>\n",
       "      <th>626</th>\n",
       "      <td>350_6.jpg</td>\n",
       "      <td>0</td>\n",
       "      <td>4</td>\n",
       "    </tr>\n",
       "    <tr>\n",
       "      <th>627</th>\n",
       "      <td>350_7.jpg</td>\n",
       "      <td>0</td>\n",
       "      <td>0</td>\n",
       "    </tr>\n",
       "    <tr>\n",
       "      <th>628</th>\n",
       "      <td>350_8.jpg</td>\n",
       "      <td>0</td>\n",
       "      <td>3</td>\n",
       "    </tr>\n",
       "    <tr>\n",
       "      <th>629</th>\n",
       "      <td>350_9.jpg</td>\n",
       "      <td>0</td>\n",
       "      <td>3</td>\n",
       "    </tr>\n",
       "  </tbody>\n",
       "</table>\n",
       "<p>630 rows × 3 columns</p>\n",
       "</div>"
      ],
      "text/plain": [
       "      image_id  label  fold\n",
       "0      1_1.jpg      1     2\n",
       "1      1_2.jpg      1     2\n",
       "2      1_3.jpg      1     2\n",
       "3      1_4.jpg      1     1\n",
       "4      1_5.jpg      1     3\n",
       "..         ...    ...   ...\n",
       "625  350_5.jpg      0     3\n",
       "626  350_6.jpg      0     4\n",
       "627  350_7.jpg      0     0\n",
       "628  350_8.jpg      0     3\n",
       "629  350_9.jpg      0     3\n",
       "\n",
       "[630 rows x 3 columns]"
      ]
     },
     "execution_count": 53,
     "metadata": {},
     "output_type": "execute_result"
    }
   ],
   "source": [
    "#####################################\n",
    "#增加flod层用于5折交叉验证\n",
    "#####################################\n",
    "fold=pd.DataFrame(np.random.randint(0,5,new_df['image_id'].values.shape))\n",
    "new_df['fold']=fold\n",
    "new_df['fold'].value_counts()\n",
    "new_df"
   ]
  },
  {
   "cell_type": "code",
   "execution_count": 56,
   "id": "incident-semester",
   "metadata": {},
   "outputs": [],
   "source": [
    "new_df.to_csv(\"./input/white_light/train.csv\", encoding=\"GBK\",index=False)#save file"
   ]
  },
  {
   "cell_type": "code",
   "execution_count": null,
   "id": "attached-delight",
   "metadata": {},
   "outputs": [],
   "source": [
    "new_df['fold'].value_counts()"
   ]
  },
  {
   "cell_type": "code",
   "execution_count": null,
   "id": "involved-example",
   "metadata": {},
   "outputs": [],
   "source": []
  }
 ],
 "metadata": {
  "kernelspec": {
   "display_name": "Python 3",
   "language": "python",
   "name": "python3"
  },
  "language_info": {
   "codemirror_mode": {
    "name": "ipython",
    "version": 3
   },
   "file_extension": ".py",
   "mimetype": "text/x-python",
   "name": "python",
   "nbconvert_exporter": "python",
   "pygments_lexer": "ipython3",
   "version": "3.8.5"
  }
 },
 "nbformat": 4,
 "nbformat_minor": 5
}
